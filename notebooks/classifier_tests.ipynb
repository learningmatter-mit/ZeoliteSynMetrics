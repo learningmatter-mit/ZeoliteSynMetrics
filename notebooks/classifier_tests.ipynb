{
 "cells": [
  {
   "cell_type": "code",
   "execution_count": 1,
   "metadata": {},
   "outputs": [],
   "source": [
    "%load_ext autoreload\n",
    "%autoreload 2"
   ]
  },
  {
   "cell_type": "markdown",
   "metadata": {},
   "source": [
    "# ML Classifier Tests"
   ]
  },
  {
   "cell_type": "markdown",
   "metadata": {},
   "source": [
    "## Setup"
   ]
  },
  {
   "cell_type": "code",
   "execution_count": 2,
   "metadata": {},
   "outputs": [],
   "source": [
    "import warnings\n",
    "\n",
    "warnings.simplefilter(action=\"ignore\", category=FutureWarning)\n",
    "warnings.simplefilter(action=\"ignore\", category=UserWarning)"
   ]
  },
  {
   "cell_type": "code",
   "execution_count": 3,
   "metadata": {},
   "outputs": [],
   "source": [
    "import matplotlib.pyplot as plt\n",
    "import numpy as np\n",
    "import pandas as pd\n",
    "import torch\n",
    "import torch.nn as nn\n",
    "import torch.optim as optim\n",
    "from plotting_functions import my_mpl_settings\n",
    "from sklearn.ensemble import RandomForestClassifier\n",
    "from sklearn.metrics import (\n",
    "    ConfusionMatrixDisplay,\n",
    "    balanced_accuracy_score,\n",
    "    confusion_matrix,\n",
    "    f1_score,\n",
    "    precision_score,\n",
    "    recall_score,\n",
    "    roc_auc_score,\n",
    ")\n",
    "from sklearn.model_selection import GridSearchCV, KFold, train_test_split\n",
    "from sklearn.preprocessing import StandardScaler\n",
    "from torch.utils.data import DataLoader, TensorDataset, random_split"
   ]
  },
  {
   "cell_type": "code",
   "execution_count": 4,
   "metadata": {},
   "outputs": [],
   "source": [
    "# set the fonts for any plots you might make\n",
    "my_mpl_settings()"
   ]
  },
  {
   "cell_type": "code",
   "execution_count": 6,
   "metadata": {},
   "outputs": [
    {
     "name": "stdout",
     "output_type": "stream",
     "text": [
      "Full dataset has 71871 entries\n"
     ]
    }
   ],
   "source": [
    "data = pd.read_csv(\"../data/clean_all_data.csv\")\n",
    "print(f\"Full dataset has {len(data)} entries\")"
   ]
  },
  {
   "cell_type": "code",
   "execution_count": 7,
   "metadata": {},
   "outputs": [
    {
     "name": "stdout",
     "output_type": "stream",
     "text": [
      "Full dataset has 71871 entries\n"
     ]
    }
   ],
   "source": [
    "# replace infinities with NaN\n",
    "data = data.replace([np.inf, -np.inf], np.nan)\n",
    "\n",
    "data = data.dropna()\n",
    "print(f\"Full dataset has {len(data)} entries\")"
   ]
  },
  {
   "cell_type": "markdown",
   "metadata": {},
   "source": [
    "## Fitting a Random Forest Classifier to the data"
   ]
  },
  {
   "cell_type": "code",
   "execution_count": 8,
   "metadata": {},
   "outputs": [
    {
     "data": {
      "text/plain": [
       "Index(['crystal_id', 'Zeolite', 'SMILES', 'Ligand formula', 'Loading', 'dE_S',\n",
       "       'dE_Om', 'Templating', 'Volume (Angstrom3)', 'syn', 'TdS_ads', 'dA_Om',\n",
       "       'ligand_atoms', 'Si_count', 'dA_S', 'dA_Oat', 'A_T', 'neg_A_T', 'E_F',\n",
       "       'dA_form_total', 'dA_fS', 'dA_fOat', 'dA_fOm', 'dE_Oa', 'dE_form_total',\n",
       "       'dE_fS', 'dE_fOa', 'dE_fOm', 'lC_AOat', 'lC_AOm', 'lC_AS', 'lD_AOat',\n",
       "       'lD_AOm', 'lD_AS', 'lC_AfOat', 'lC_AfOm', 'lC_AfS', 'lD_AfOat',\n",
       "       'lD_AfOm', 'lD_AfS', 'lC_Oa', 'lC_Om', 'lC_S', 'lD_Oa', 'lD_Om', 'lD_S',\n",
       "       'lC_fOa', 'lC_fOm', 'lC_fS', 'lD_fOa', 'lD_fOm', 'lD_fS'],\n",
       "      dtype='object')"
      ]
     },
     "execution_count": 8,
     "metadata": {},
     "output_type": "execute_result"
    }
   ],
   "source": [
    "data.columns"
   ]
  },
  {
   "cell_type": "code",
   "execution_count": 9,
   "metadata": {},
   "outputs": [],
   "source": [
    "data_cols = [\n",
    "    \"Loading\",\n",
    "    \"ligand_atoms\",\n",
    "    \"Si_count\",\n",
    "    \"E_F\",\n",
    "    \"dE_Oa\",\n",
    "    \"dE_Om\",\n",
    "    \"dE_S\",\n",
    "    \"dE_fOa\",\n",
    "    \"dE_fOm\",\n",
    "    \"dE_fS\",\n",
    "    \"lC_Oa\",\n",
    "    \"lC_Om\",\n",
    "    \"lC_S\",\n",
    "    \"lD_Oa\",\n",
    "    \"lD_Om\",\n",
    "    \"lD_S\",\n",
    "    \"lC_fOa\",\n",
    "    \"lC_fOm\",\n",
    "    \"lC_fS\",\n",
    "    \"lD_fOa\",\n",
    "    \"lD_fOm\",\n",
    "    \"lD_fS\",\n",
    "]"
   ]
  },
  {
   "cell_type": "code",
   "execution_count": 10,
   "metadata": {},
   "outputs": [],
   "source": [
    "# Preprocess the data\n",
    "# Example: Assuming 'synthesizable' is the target column and others are features\n",
    "X = data[data_cols]\n",
    "y = data[\"syn\"]\n",
    "\n",
    "# Split the data\n",
    "X_train, X_test, y_train, y_test = train_test_split(\n",
    "    X, y, test_size=0.2, random_state=42, stratify=y\n",
    ")"
   ]
  },
  {
   "cell_type": "code",
   "execution_count": 11,
   "metadata": {},
   "outputs": [
    {
     "data": {
      "text/plain": [
       "array([ 0.51103921, 23.14653784])"
      ]
     },
     "execution_count": 11,
     "metadata": {},
     "output_type": "execute_result"
    }
   ],
   "source": [
    "weigh_dict = len(y_train) / (2 * np.bincount(y_train))\n",
    "weigh_dict"
   ]
  },
  {
   "cell_type": "code",
   "execution_count": 12,
   "metadata": {},
   "outputs": [
    {
     "name": "stderr",
     "output_type": "stream",
     "text": [
      "/home/ajhoffman/miniforge3/envs/htvs/lib/python3.11/site-packages/sklearn/model_selection/_validation.py:540: FitFailedWarning: \n",
      "120 fits failed out of a total of 360.\n",
      "The score on these train-test partitions for these parameters will be set to nan.\n",
      "If these failures are not expected, you can try to debug them by setting error_score='raise'.\n",
      "\n",
      "Below are more details about the failures:\n",
      "--------------------------------------------------------------------------------\n",
      "31 fits failed with the following error:\n",
      "Traceback (most recent call last):\n",
      "  File \"/home/ajhoffman/miniforge3/envs/htvs/lib/python3.11/site-packages/sklearn/model_selection/_validation.py\", line 888, in _fit_and_score\n",
      "    estimator.fit(X_train, y_train, **fit_params)\n",
      "  File \"/home/ajhoffman/miniforge3/envs/htvs/lib/python3.11/site-packages/sklearn/base.py\", line 1466, in wrapper\n",
      "    estimator._validate_params()\n",
      "  File \"/home/ajhoffman/miniforge3/envs/htvs/lib/python3.11/site-packages/sklearn/base.py\", line 666, in _validate_params\n",
      "    validate_parameter_constraints(\n",
      "  File \"/home/ajhoffman/miniforge3/envs/htvs/lib/python3.11/site-packages/sklearn/utils/_param_validation.py\", line 95, in validate_parameter_constraints\n",
      "    raise InvalidParameterError(\n",
      "sklearn.utils._param_validation.InvalidParameterError: The 'max_features' parameter of RandomForestClassifier must be an int in the range [1, inf), a float in the range (0.0, 1.0], a str among {'sqrt', 'log2'} or None. Got 'auto' instead.\n",
      "\n",
      "--------------------------------------------------------------------------------\n",
      "89 fits failed with the following error:\n",
      "Traceback (most recent call last):\n",
      "  File \"/home/ajhoffman/miniforge3/envs/htvs/lib/python3.11/site-packages/sklearn/model_selection/_validation.py\", line 888, in _fit_and_score\n",
      "    estimator.fit(X_train, y_train, **fit_params)\n",
      "  File \"/home/ajhoffman/miniforge3/envs/htvs/lib/python3.11/site-packages/sklearn/base.py\", line 1466, in wrapper\n",
      "    estimator._validate_params()\n",
      "  File \"/home/ajhoffman/miniforge3/envs/htvs/lib/python3.11/site-packages/sklearn/base.py\", line 666, in _validate_params\n",
      "    validate_parameter_constraints(\n",
      "  File \"/home/ajhoffman/miniforge3/envs/htvs/lib/python3.11/site-packages/sklearn/utils/_param_validation.py\", line 95, in validate_parameter_constraints\n",
      "    raise InvalidParameterError(\n",
      "sklearn.utils._param_validation.InvalidParameterError: The 'max_features' parameter of RandomForestClassifier must be an int in the range [1, inf), a float in the range (0.0, 1.0], a str among {'log2', 'sqrt'} or None. Got 'auto' instead.\n",
      "\n",
      "  warnings.warn(some_fits_failed_message, FitFailedWarning)\n"
     ]
    },
    {
     "name": "stdout",
     "output_type": "stream",
     "text": [
      "Best hyperparameters: {'criterion': 'entropy', 'max_depth': 30, 'max_features': 'sqrt', 'n_estimators': 100}\n",
      "Best cross-validation score: 0.9808160407143154\n"
     ]
    }
   ],
   "source": [
    "# Define the parameter grid\n",
    "param_grid = {\n",
    "    \"n_estimators\": [100, 200, 300],\n",
    "    \"max_features\": [\"auto\", \"sqrt\", \"log2\"],\n",
    "    \"max_depth\": [None, 10, 20, 30],\n",
    "    \"criterion\": [\"gini\", \"entropy\"],\n",
    "}\n",
    "\n",
    "# Train a Random Forest Classifier\n",
    "model = RandomForestClassifier(random_state=42, class_weight=\"balanced\")\n",
    "kf = KFold(n_splits=5, shuffle=True, random_state=42)\n",
    "\n",
    "# Initialize GridSearchCV\n",
    "grid_search = GridSearchCV(\n",
    "    estimator=model, param_grid=param_grid, cv=kf, scoring=\"accuracy\", n_jobs=-1\n",
    ")\n",
    "\n",
    "# Fit GridSearchCV\n",
    "grid_search.fit(X_train, y_train)\n",
    "\n",
    "# Retrieve the best model\n",
    "best_model = grid_search.best_estimator_\n",
    "\n",
    "# Print the best hyperparameters\n",
    "print(f\"Best hyperparameters: {grid_search.best_params_}\")\n",
    "\n",
    "# Print the best score\n",
    "print(f\"Best cross-validation score: {grid_search.best_score_}\")\n",
    "\n",
    "# Print cross-validation results\n",
    "# print(f\"Cross-validation scores: {cv_scores}\")\n",
    "# print(f\"Mean cross-validation score: {cv_scores.mean()}\")\n",
    "# print(f\"Standard deviation of cross-validation scores: {cv_scores.std()}\")"
   ]
  },
  {
   "cell_type": "code",
   "execution_count": 13,
   "metadata": {},
   "outputs": [
    {
     "name": "stdout",
     "output_type": "stream",
     "text": [
      "Accuracy: 0.5781026515442498\n",
      "Precision: 0.9918555304242594\n",
      "Recall: 0.15755627009646261\n",
      "F1 Score: 0.27191831122213617\n",
      "ROC-AUC: 0.5781026515442494\n"
     ]
    }
   ],
   "source": [
    "# Evaluate the model\n",
    "w = len(y_test) / (y_test == 1).sum()\n",
    "weights = w * y_test + 1\n",
    "y_pred = best_model.predict(X_test)\n",
    "print(f\"Accuracy: {balanced_accuracy_score(y_test, y_pred)}\")\n",
    "print(f\"Precision: {precision_score(y_test, y_pred, sample_weight=weights)}\")\n",
    "print(f\"Recall: {recall_score(y_test, y_pred, sample_weight=weights)}\")\n",
    "print(f\"F1 Score: {f1_score(y_test, y_pred, sample_weight=weights)}\")\n",
    "print(f\"ROC-AUC: {roc_auc_score(y_test, y_pred, sample_weight=weights)}\")"
   ]
  },
  {
   "cell_type": "code",
   "execution_count": null,
   "metadata": {},
   "outputs": [
    {
     "data": {
      "image/png": "[encoded data removed]",
      "text/plain": [
       "<Figure size 600x600 with 2 Axes>"
      ]
     },
     "metadata": {},
     "output_type": "display_data"
    }
   ],
   "source": [
    "# Plot a confusion matrix for the test set from the model\n",
    "fig, ax = plt.subplots(figsize=(3, 3))\n",
    "conmat = ConfusionMatrixDisplay.from_estimator(best_model, X_test, y_test, cmap=\"Blues\", ax=ax)\n",
    "ax.set_xlabel(\"Predicted label\", fontweight=\"bold\")\n",
    "ax.set_ylabel(\"True label\", fontweight=\"bold\")\n",
    "\n",
    "plt.savefig(\"images/confusion_matrix.svg\", dpi=300, bbox_inches=\"tight\")"
   ]
  },
  {
   "cell_type": "markdown",
   "metadata": {},
   "source": [
    "## Fit a neural network classifier to the data"
   ]
  },
  {
   "cell_type": "code",
   "execution_count": 15,
   "metadata": {},
   "outputs": [],
   "source": [
    "# Standardize the features\n",
    "scaler = StandardScaler()\n",
    "X = scaler.fit_transform(X)\n",
    "\n",
    "# Convert to PyTorch tensors\n",
    "X_tensor = torch.tensor(X, dtype=torch.float32)\n",
    "y_tensor = torch.tensor(y, dtype=torch.float32).unsqueeze(1)\n",
    "\n",
    "# Create a dataset and split into training and validation sets\n",
    "dataset = TensorDataset(X_tensor, y_tensor)\n",
    "train_size = int(0.8 * len(dataset))\n",
    "val_size = len(dataset) - train_size\n",
    "train_dataset, val_dataset = random_split(dataset, [train_size, val_size])\n",
    "\n",
    "# Create data loaders\n",
    "batch_size = 32\n",
    "train_loader = DataLoader(train_dataset, batch_size=batch_size, shuffle=True)\n",
    "val_loader = DataLoader(val_dataset, batch_size=batch_size)"
   ]
  },
  {
   "cell_type": "code",
   "execution_count": 16,
   "metadata": {},
   "outputs": [],
   "source": [
    "# Define the neural network\n",
    "class SynthesizableNet(nn.Module):  # noqa: D101\n",
    "    def __init__(self, input_dim):  # noqa: D107\n",
    "        super().__init__()\n",
    "        self.fc1 = nn.Linear(input_dim, 128)\n",
    "        self.fc2 = nn.Linear(128, 64)\n",
    "        self.fc3 = nn.Linear(64, 1)\n",
    "        self.sigmoid = nn.Sigmoid()\n",
    "\n",
    "    def forward(self, x):  # noqa: D102\n",
    "        x = torch.relu(self.fc1(x))\n",
    "        x = torch.relu(self.fc2(x))\n",
    "        x = self.fc3(x)\n",
    "        return self.sigmoid(x)"
   ]
  },
  {
   "cell_type": "code",
   "execution_count": 17,
   "metadata": {},
   "outputs": [],
   "source": [
    "# Initialize the model, loss function, and optimizer\n",
    "input_dim = X.shape[1]\n",
    "model = SynthesizableNet(input_dim)\n",
    "criterion = nn.BCELoss()\n",
    "optimizer = optim.Adam(model.parameters(), lr=0.001)"
   ]
  },
  {
   "cell_type": "code",
   "execution_count": 18,
   "metadata": {},
   "outputs": [
    {
     "name": "stdout",
     "output_type": "stream",
     "text": [
      "Epoch 1/20, Training Loss: 0.0187, Validation Loss: 0.0992\n",
      "Epoch 2/20, Training Loss: 0.0074, Validation Loss: 0.0901\n",
      "Epoch 3/20, Training Loss: 0.0065, Validation Loss: 0.0879\n",
      "Epoch 4/20, Training Loss: 0.0039, Validation Loss: 0.0866\n",
      "Epoch 5/20, Training Loss: 0.0023, Validation Loss: 0.0813\n",
      "Epoch 6/20, Training Loss: 0.0016, Validation Loss: 0.0820\n",
      "Epoch 7/20, Training Loss: 0.0026, Validation Loss: 0.0818\n",
      "Epoch 8/20, Training Loss: 0.0005, Validation Loss: 0.0829\n",
      "Epoch 9/20, Training Loss: 0.0021, Validation Loss: 0.0772\n",
      "Epoch 10/20, Training Loss: 0.0027, Validation Loss: 0.0771\n",
      "Epoch 11/20, Training Loss: 0.0020, Validation Loss: 0.0783\n",
      "Epoch 12/20, Training Loss: 0.0012, Validation Loss: 0.0779\n",
      "Epoch 13/20, Training Loss: 0.0007, Validation Loss: 0.0769\n",
      "Epoch 14/20, Training Loss: 0.0006, Validation Loss: 0.0760\n",
      "Epoch 15/20, Training Loss: 0.0006, Validation Loss: 0.0768\n",
      "Epoch 16/20, Training Loss: 0.0014, Validation Loss: 0.0756\n",
      "Epoch 17/20, Training Loss: 0.0011, Validation Loss: 0.0763\n",
      "Epoch 18/20, Training Loss: 0.0030, Validation Loss: 0.0773\n",
      "Epoch 19/20, Training Loss: 0.0011, Validation Loss: 0.0781\n",
      "Epoch 20/20, Training Loss: 0.0007, Validation Loss: 0.0777\n"
     ]
    }
   ],
   "source": [
    "# Training loop\n",
    "num_epochs = 20\n",
    "for epoch in range(num_epochs):\n",
    "    model.train()\n",
    "    for X_batch, y_batch in train_loader:\n",
    "        optimizer.zero_grad()\n",
    "        outputs = model(X_batch)\n",
    "        loss = criterion(outputs, y_batch)\n",
    "        loss.backward()\n",
    "        optimizer.step()\n",
    "\n",
    "    model.eval()\n",
    "    val_loss = 0\n",
    "    with torch.no_grad():\n",
    "        for X_batch, y_batch in val_loader:\n",
    "            outputs = model(X_batch)\n",
    "            loss = criterion(outputs, y_batch)\n",
    "            val_loss += loss.item()\n",
    "\n",
    "    print(\n",
    "        f\"Epoch {epoch+1}/{num_epochs}, Training Loss: {loss.item():.4f}, \"\n",
    "        f\"Validation Loss: {val_loss/len(val_loader):.4f}\"\n",
    "    )"
   ]
  },
  {
   "cell_type": "code",
   "execution_count": 19,
   "metadata": {},
   "outputs": [
    {
     "name": "stdout",
     "output_type": "stream",
     "text": [
      "Validation Accuracy: 0.9786\n"
     ]
    }
   ],
   "source": [
    "# Evaluation on the validation set\n",
    "model.eval()\n",
    "y_true = []\n",
    "y_pred = []\n",
    "with torch.no_grad():\n",
    "    for X_batch, y_batch in val_loader:\n",
    "        outputs = model(X_batch)\n",
    "        y_true.extend(y_batch.numpy())\n",
    "        y_pred.extend(outputs.numpy())\n",
    "\n",
    "# Convert predictions to binary\n",
    "y_pred = np.array(y_pred)\n",
    "y_pred_binary = (y_pred >= 0.5).astype(int)\n",
    "\n",
    "# Calculate accuracy\n",
    "accuracy = np.mean(y_pred_binary == y_true)\n",
    "print(f\"Validation Accuracy: {accuracy:.4f}\")"
   ]
  },
  {
   "cell_type": "code",
   "execution_count": 20,
   "metadata": {},
   "outputs": [],
   "source": [
    "conf_matrix = confusion_matrix(y_true, y_pred_binary)"
   ]
  },
  {
   "cell_type": "code",
   "execution_count": null,
   "metadata": {},
   "outputs": [
    {
     "data": {
      "image/png": "[encoded data removed]",
      "text/plain": [
       "<Figure size 600x600 with 2 Axes>"
      ]
     },
     "metadata": {},
     "output_type": "display_data"
    }
   ],
   "source": [
    "# Plot confusion matrix\n",
    "fig, ax = plt.subplots(figsize=(3, 3))\n",
    "disp = ConfusionMatrixDisplay(confusion_matrix=conf_matrix)\n",
    "disp.plot(cmap=plt.cm.Blues, ax=ax)\n",
    "plt.savefig(\"images/nn_confmat.svg\", dpi=300, bbox_inches=\"tight\")\n",
    "plt.show()"
   ]
  }
 ],
 "metadata": {
  "kernelspec": {
   "display_name": "htvs",
   "language": "python",
   "name": "python3"
  },
  "language_info": {
   "codemirror_mode": {
    "name": "ipython",
    "version": 3
   },
   "file_extension": ".py",
   "mimetype": "text/x-python",
   "name": "python",
   "nbconvert_exporter": "python",
   "pygments_lexer": "ipython3",
   "version": "3.11.10"
  }
 },
 "nbformat": 4,
 "nbformat_minor": 2
}
